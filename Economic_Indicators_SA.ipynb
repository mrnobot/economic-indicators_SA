{
 "cells": [
  {
   "cell_type": "code",
   "execution_count": 1,
   "metadata": {},
   "outputs": [],
   "source": [
    "import pandas as pd \n",
    "import matplotlib.pyplot as plt\n",
    "import seaborn as sns\n",
    "%matplotlib inline"
   ]
  },
  {
   "cell_type": "code",
   "execution_count": 2,
   "metadata": {},
   "outputs": [],
   "source": [
    "cpi = pd.read_excel('Core CPI, seas. adj..xlsx', sheet = 1)"
   ]
  },
  {
   "cell_type": "code",
   "execution_count": 3,
   "metadata": {},
   "outputs": [],
   "source": [
    "sa_cpi = cpi['South Africa'] #south afrian consumer price index"
   ]
  },
  {
   "cell_type": "code",
   "execution_count": 4,
   "metadata": {},
   "outputs": [],
   "source": [
    "xrate = pd.read_excel('Real Effective Exchange Rate.xlsx', sheet =1)"
   ]
  },
  {
   "cell_type": "code",
   "execution_count": 5,
   "metadata": {},
   "outputs": [],
   "source": [
    "sa_xrate = xrate['South Africa'] #south african real effective exchange rate"
   ]
  },
  {
   "cell_type": "code",
   "execution_count": 6,
   "metadata": {},
   "outputs": [],
   "source": [
    "xport = pd.read_excel('Exports Merchandise, Customs, current US$, millions, seas. adj..xlsx', sheet =1)"
   ]
  },
  {
   "cell_type": "code",
   "execution_count": 7,
   "metadata": {},
   "outputs": [],
   "source": [
    "sa_xport = xport['South Africa'] #south african exports "
   ]
  },
  {
   "cell_type": "code",
   "execution_count": 8,
   "metadata": {},
   "outputs": [],
   "source": [
    "fres = pd.read_excel('Foreign Reserves, Months Import Cover, Goods.xlsx', sheet =1)"
   ]
  },
  {
   "cell_type": "code",
   "execution_count": 9,
   "metadata": {},
   "outputs": [],
   "source": [
    "sa_fres = fres['South Africa'] #SA foreign reserves"
   ]
  },
  {
   "cell_type": "code",
   "execution_count": 10,
   "metadata": {},
   "outputs": [],
   "source": [
    "imports = pd.read_excel('Imports Merchandise, Customs, current US$, millions, seas. adj..xlsx', sheet =1)"
   ]
  },
  {
   "cell_type": "code",
   "execution_count": 11,
   "metadata": {},
   "outputs": [],
   "source": [
    "sa_imports = imports['South Africa'] #SA imports"
   ]
  },
  {
   "cell_type": "code",
   "execution_count": 12,
   "metadata": {},
   "outputs": [],
   "source": [
    "industrial = pd.read_excel('Industrial Production, constant 2010 US$, seas. adj..xlsx', sheet =1)"
   ]
  },
  {
   "cell_type": "code",
   "execution_count": 13,
   "metadata": {},
   "outputs": [],
   "source": [
    "sa_industrials = industrial['South Africa'] # SA industrial production"
   ]
  },
  {
   "cell_type": "code",
   "execution_count": 14,
   "metadata": {},
   "outputs": [],
   "source": [
    "stocks = pd.read_excel('Stock Markets, US$.xlsx', sheet =1)"
   ]
  },
  {
   "cell_type": "code",
   "execution_count": 15,
   "metadata": {},
   "outputs": [],
   "source": [
    "sa_stocks = stocks['South Africa'] #SA stock markets"
   ]
  },
  {
   "cell_type": "code",
   "execution_count": 16,
   "metadata": {},
   "outputs": [],
   "source": [
    "tres = pd.read_excel('Total Reserves.xlsx', sheet =1)"
   ]
  },
  {
   "cell_type": "code",
   "execution_count": 17,
   "metadata": {},
   "outputs": [],
   "source": [
    "sa_tres = tres['South Africa'] #SA total reserves"
   ]
  },
  {
   "cell_type": "code",
   "execution_count": 18,
   "metadata": {},
   "outputs": [],
   "source": [
    "nomxrate = pd.read_excel('Nominal Effecive Exchange Rate.xlsx', sheet=1)"
   ]
  },
  {
   "cell_type": "code",
   "execution_count": 19,
   "metadata": {},
   "outputs": [],
   "source": [
    "sa_nomxrate = nomxrate['South Africa'] # SA nominal effective exchange rate"
   ]
  },
  {
   "cell_type": "code",
   "execution_count": 20,
   "metadata": {},
   "outputs": [],
   "source": [
    "xchange = sa_xrate.drop(sa_xrate.iloc[0])"
   ]
  },
  {
   "cell_type": "code",
   "execution_count": 21,
   "metadata": {},
   "outputs": [
    {
     "data": {
      "text/plain": [
       "1989.0          NaN\n",
       "1990.0          NaN\n",
       "1991.0          NaN\n",
       "1992.0          NaN\n",
       "1993.0          NaN\n",
       "1994.0          NaN\n",
       "1995.0          NaN\n",
       "1996.0          NaN\n",
       "1997.0          NaN\n",
       "1998.0          NaN\n",
       "1999.0          NaN\n",
       "2000.0          NaN\n",
       "2001.0          NaN\n",
       "2002.0     76.55918\n",
       "2003.0     80.48021\n",
       "2004.0     78.53008\n",
       "2005.0     79.68678\n",
       "2006.0     81.15370\n",
       "2007.0     85.04475\n",
       "2008.0     90.75676\n",
       "2009.0     97.46171\n",
       "2010.0    101.44040\n",
       "2011.0    105.02010\n",
       "2012.0    109.80720\n",
       "2013.0    115.51690\n",
       "2014.0    121.97850\n",
       "2015.0    128.63850\n",
       "2016.0    135.84510\n",
       "2017.0    142.29060\n",
       "2018.0    146.73170\n",
       "Name: South Africa, dtype: float64"
      ]
     },
     "execution_count": 21,
     "metadata": {},
     "output_type": "execute_result"
    }
   ],
   "source": [
    "cpindex = sa_cpi.drop(sa_cpi.iloc[0])\n",
    "cpindex"
   ]
  },
  {
   "cell_type": "code",
   "execution_count": 22,
   "metadata": {},
   "outputs": [
    {
     "data": {
      "text/plain": [
       "1991.0     26513.08\n",
       "1992.0     26806.48\n",
       "1993.0     27290.37\n",
       "1994.0     28411.19\n",
       "1995.0     31846.64\n",
       "1996.0     32502.69\n",
       "1997.0     35207.32\n",
       "1998.0     29475.55\n",
       "1999.0     30414.38\n",
       "2000.0     34082.65\n",
       "2001.0     33559.03\n",
       "2002.0     33844.15\n",
       "2003.0     41573.14\n",
       "2004.0     52210.23\n",
       "2005.0     58954.33\n",
       "2006.0     65869.45\n",
       "2007.0     79220.86\n",
       "2008.0     92015.75\n",
       "2009.0     71397.28\n",
       "2010.0     91174.26\n",
       "2011.0    108781.40\n",
       "2012.0     99898.76\n",
       "2013.0     96289.27\n",
       "2014.0     93377.33\n",
       "2015.0     80991.71\n",
       "2016.0     76138.20\n",
       "2017.0     88950.68\n",
       "2018.0          NaN\n",
       "Name: South Africa, dtype: float64"
      ]
     },
     "execution_count": 22,
     "metadata": {},
     "output_type": "execute_result"
    }
   ],
   "source": [
    "exports = sa_xport.drop(sa_xport.iloc[0])\n",
    "exports"
   ]
  },
  {
   "cell_type": "code",
   "execution_count": 23,
   "metadata": {
    "scrolled": true
   },
   "outputs": [
    {
     "data": {
      "text/plain": [
       "1991.0          NaN\n",
       "1992.0          NaN\n",
       "1993.0     18243.70\n",
       "1994.0     21471.16\n",
       "1995.0     27027.61\n",
       "1996.0     26851.67\n",
       "1997.0     28156.03\n",
       "1998.0     25845.67\n",
       "1999.0     24093.49\n",
       "2000.0     26748.20\n",
       "2001.0     25014.98\n",
       "2002.0     26536.92\n",
       "2003.0     34231.60\n",
       "2004.0     47792.61\n",
       "2005.0     54927.36\n",
       "2006.0     67665.81\n",
       "2007.0     79932.16\n",
       "2008.0     90067.59\n",
       "2009.0     64948.20\n",
       "2010.0     83067.85\n",
       "2011.0    102661.00\n",
       "2012.0    104221.00\n",
       "2013.0    103531.40\n",
       "2014.0     99773.53\n",
       "2015.0     85616.95\n",
       "2016.0     75126.88\n",
       "2017.0     83302.70\n",
       "2018.0          NaN\n",
       "Name: South Africa, dtype: float64"
      ]
     },
     "execution_count": 23,
     "metadata": {},
     "output_type": "execute_result"
    }
   ],
   "source": [
    "final_imports = sa_imports.drop(sa_imports.iloc[0])\n",
    "final_imports"
   ]
  },
  {
   "cell_type": "code",
   "execution_count": 24,
   "metadata": {
    "collapsed": true
   },
   "outputs": [
    {
     "data": {
      "text/plain": [
       "1991.0    7.850000e+10\n",
       "1992.0    7.610000e+10\n",
       "1993.0    7.780000e+10\n",
       "1994.0    8.050000e+10\n",
       "1995.0    8.700000e+10\n",
       "1996.0    9.030000e+10\n",
       "1997.0    9.270000e+10\n",
       "1998.0    9.210000e+10\n",
       "1999.0    9.140000e+10\n",
       "2000.0    9.540000e+10\n",
       "2001.0    9.710000e+10\n",
       "2002.0    1.010000e+11\n",
       "2003.0    9.900000e+10\n",
       "2004.0    1.030000e+11\n",
       "2005.0    1.060000e+11\n",
       "2006.0    1.110000e+11\n",
       "2007.0    1.160000e+11\n",
       "2008.0    1.150000e+11\n",
       "2009.0    9.940000e+10\n",
       "2010.0    1.040000e+11\n",
       "2011.0    1.070000e+11\n",
       "2012.0    1.090000e+11\n",
       "2013.0    1.110000e+11\n",
       "2014.0    1.110000e+11\n",
       "2015.0    1.110000e+11\n",
       "2016.0    1.120000e+11\n",
       "2017.0    1.110000e+11\n",
       "2018.0             NaN\n",
       "Name: South Africa, dtype: float64"
      ]
     },
     "execution_count": 24,
     "metadata": {},
     "output_type": "execute_result"
    }
   ],
   "source": [
    "industry = sa_industrials.drop(sa_industrials.iloc[0])\n",
    "industry"
   ]
  },
  {
   "cell_type": "code",
   "execution_count": 25,
   "metadata": {
    "collapsed": true
   },
   "outputs": [
    {
     "data": {
      "text/plain": [
       "1990.0          NaN\n",
       "1991.0          NaN\n",
       "1992.0          NaN\n",
       "1993.0          NaN\n",
       "1994.0          NaN\n",
       "1995.0          NaN\n",
       "1996.0          NaN\n",
       "1997.0          NaN\n",
       "1998.0          NaN\n",
       "1999.0          NaN\n",
       "2000.0          NaN\n",
       "2001.0          NaN\n",
       "2002.0     26.17536\n",
       "2003.0     32.05762\n",
       "2004.0     46.32004\n",
       "2005.0     62.42404\n",
       "2006.0     84.68823\n",
       "2007.0    108.13480\n",
       "2008.0     90.11039\n",
       "2009.0     76.32392\n",
       "2010.0    105.48320\n",
       "2011.0    117.98650\n",
       "2012.0    115.24880\n",
       "2013.0    116.73060\n",
       "2014.0    122.20540\n",
       "2015.0    110.13940\n",
       "2016.0     94.53760\n",
       "2017.0    110.75940\n",
       "2018.0    124.46890\n",
       "Name: South Africa, dtype: float64"
      ]
     },
     "execution_count": 25,
     "metadata": {},
     "output_type": "execute_result"
    }
   ],
   "source": [
    "stock_market = sa_stocks.drop(sa_stocks.iloc[0])\n",
    "stock_market"
   ]
  },
  {
   "cell_type": "code",
   "execution_count": 26,
   "metadata": {
    "collapsed": true
   },
   "outputs": [
    {
     "data": {
      "text/plain": [
       "1990.0     954.7425\n",
       "1991.0    1074.6780\n",
       "1992.0     989.7752\n",
       "1993.0     792.6544\n",
       "1994.0     879.2921\n",
       "1995.0    1174.5250\n",
       "1996.0     470.1466\n",
       "1997.0    1200.8200\n",
       "1998.0     933.3785\n",
       "1999.0    1219.8340\n",
       "2000.0    1007.6040\n",
       "2001.0     657.0305\n",
       "2002.0     875.0515\n",
       "2003.0    1246.4380\n",
       "2004.0    2601.4610\n",
       "2005.0    3248.2950\n",
       "2006.0    3632.4690\n",
       "2007.0    4803.3250\n",
       "2008.0    3428.4380\n",
       "2009.0    5293.1660\n",
       "2010.0    6428.0430\n",
       "2011.0    5956.8700\n",
       "2012.0    5893.7010\n",
       "2013.0    4781.6400\n",
       "2014.0    4265.9440\n",
       "2015.0    3045.0260\n",
       "2016.0    3412.7800\n",
       "2017.0    3869.7940\n",
       "2018.0          NaN\n",
       "Name: South Africa, dtype: float64"
      ]
     },
     "execution_count": 26,
     "metadata": {},
     "output_type": "execute_result"
    }
   ],
   "source": [
    "total_reserves = sa_tres.drop(sa_tres.iloc[0])\n",
    "total_reserves"
   ]
  },
  {
   "cell_type": "code",
   "execution_count": 27,
   "metadata": {},
   "outputs": [],
   "source": [
    "full_data = pd.DataFrame({'Total Reserves':total_reserves, 'Stock Market':stock_market,'Imports': final_imports,'Exports':exports, 'Consumer Price Index':cpindex, 'Industrial Production':industry, 'Real Effective Exchange rate':xchange})"
   ]
  },
  {
   "cell_type": "code",
   "execution_count": 28,
   "metadata": {
    "collapsed": true
   },
   "outputs": [
    {
     "data": {
      "text/html": [
       "<div>\n",
       "<style scoped>\n",
       "    .dataframe tbody tr th:only-of-type {\n",
       "        vertical-align: middle;\n",
       "    }\n",
       "\n",
       "    .dataframe tbody tr th {\n",
       "        vertical-align: top;\n",
       "    }\n",
       "\n",
       "    .dataframe thead th {\n",
       "        text-align: right;\n",
       "    }\n",
       "</style>\n",
       "<table border=\"1\" class=\"dataframe\">\n",
       "  <thead>\n",
       "    <tr style=\"text-align: right;\">\n",
       "      <th></th>\n",
       "      <th>Total Reserves</th>\n",
       "      <th>Stock Market</th>\n",
       "      <th>Imports</th>\n",
       "      <th>Exports</th>\n",
       "      <th>Consumer Price Index</th>\n",
       "      <th>Industrial Production</th>\n",
       "      <th>Real Effective Exchange rate</th>\n",
       "    </tr>\n",
       "  </thead>\n",
       "  <tbody>\n",
       "    <tr>\n",
       "      <th>1989.0</th>\n",
       "      <td>NaN</td>\n",
       "      <td>NaN</td>\n",
       "      <td>NaN</td>\n",
       "      <td>NaN</td>\n",
       "      <td>NaN</td>\n",
       "      <td>NaN</td>\n",
       "      <td>NaN</td>\n",
       "    </tr>\n",
       "    <tr>\n",
       "      <th>1990.0</th>\n",
       "      <td>954.7425</td>\n",
       "      <td>NaN</td>\n",
       "      <td>NaN</td>\n",
       "      <td>NaN</td>\n",
       "      <td>NaN</td>\n",
       "      <td>NaN</td>\n",
       "      <td>NaN</td>\n",
       "    </tr>\n",
       "    <tr>\n",
       "      <th>1991.0</th>\n",
       "      <td>1074.6780</td>\n",
       "      <td>NaN</td>\n",
       "      <td>NaN</td>\n",
       "      <td>26513.08</td>\n",
       "      <td>NaN</td>\n",
       "      <td>7.850000e+10</td>\n",
       "      <td>NaN</td>\n",
       "    </tr>\n",
       "    <tr>\n",
       "      <th>1992.0</th>\n",
       "      <td>989.7752</td>\n",
       "      <td>NaN</td>\n",
       "      <td>NaN</td>\n",
       "      <td>26806.48</td>\n",
       "      <td>NaN</td>\n",
       "      <td>7.610000e+10</td>\n",
       "      <td>NaN</td>\n",
       "    </tr>\n",
       "    <tr>\n",
       "      <th>1993.0</th>\n",
       "      <td>792.6544</td>\n",
       "      <td>NaN</td>\n",
       "      <td>18243.70</td>\n",
       "      <td>27290.37</td>\n",
       "      <td>NaN</td>\n",
       "      <td>7.780000e+10</td>\n",
       "      <td>NaN</td>\n",
       "    </tr>\n",
       "    <tr>\n",
       "      <th>1994.0</th>\n",
       "      <td>879.2921</td>\n",
       "      <td>NaN</td>\n",
       "      <td>21471.16</td>\n",
       "      <td>28411.19</td>\n",
       "      <td>NaN</td>\n",
       "      <td>8.050000e+10</td>\n",
       "      <td>113.91730</td>\n",
       "    </tr>\n",
       "    <tr>\n",
       "      <th>1995.0</th>\n",
       "      <td>1174.5250</td>\n",
       "      <td>NaN</td>\n",
       "      <td>27027.61</td>\n",
       "      <td>31846.64</td>\n",
       "      <td>NaN</td>\n",
       "      <td>8.700000e+10</td>\n",
       "      <td>111.05720</td>\n",
       "    </tr>\n",
       "    <tr>\n",
       "      <th>1996.0</th>\n",
       "      <td>470.1466</td>\n",
       "      <td>NaN</td>\n",
       "      <td>26851.67</td>\n",
       "      <td>32502.69</td>\n",
       "      <td>NaN</td>\n",
       "      <td>9.030000e+10</td>\n",
       "      <td>101.06130</td>\n",
       "    </tr>\n",
       "    <tr>\n",
       "      <th>1997.0</th>\n",
       "      <td>1200.8200</td>\n",
       "      <td>NaN</td>\n",
       "      <td>28156.03</td>\n",
       "      <td>35207.32</td>\n",
       "      <td>NaN</td>\n",
       "      <td>9.270000e+10</td>\n",
       "      <td>106.65800</td>\n",
       "    </tr>\n",
       "    <tr>\n",
       "      <th>1998.0</th>\n",
       "      <td>933.3785</td>\n",
       "      <td>NaN</td>\n",
       "      <td>25845.67</td>\n",
       "      <td>29475.55</td>\n",
       "      <td>NaN</td>\n",
       "      <td>9.210000e+10</td>\n",
       "      <td>98.76722</td>\n",
       "    </tr>\n",
       "    <tr>\n",
       "      <th>1999.0</th>\n",
       "      <td>1219.8340</td>\n",
       "      <td>NaN</td>\n",
       "      <td>24093.49</td>\n",
       "      <td>30414.38</td>\n",
       "      <td>NaN</td>\n",
       "      <td>9.140000e+10</td>\n",
       "      <td>92.68240</td>\n",
       "    </tr>\n",
       "    <tr>\n",
       "      <th>2000.0</th>\n",
       "      <td>1007.6040</td>\n",
       "      <td>NaN</td>\n",
       "      <td>26748.20</td>\n",
       "      <td>34082.65</td>\n",
       "      <td>NaN</td>\n",
       "      <td>9.540000e+10</td>\n",
       "      <td>93.64602</td>\n",
       "    </tr>\n",
       "    <tr>\n",
       "      <th>2001.0</th>\n",
       "      <td>657.0305</td>\n",
       "      <td>NaN</td>\n",
       "      <td>25014.98</td>\n",
       "      <td>33559.03</td>\n",
       "      <td>NaN</td>\n",
       "      <td>9.710000e+10</td>\n",
       "      <td>87.76814</td>\n",
       "    </tr>\n",
       "    <tr>\n",
       "      <th>2002.0</th>\n",
       "      <td>875.0515</td>\n",
       "      <td>26.17536</td>\n",
       "      <td>26536.92</td>\n",
       "      <td>33844.15</td>\n",
       "      <td>76.55918</td>\n",
       "      <td>1.010000e+11</td>\n",
       "      <td>75.42743</td>\n",
       "    </tr>\n",
       "    <tr>\n",
       "      <th>2003.0</th>\n",
       "      <td>1246.4380</td>\n",
       "      <td>32.05762</td>\n",
       "      <td>34231.60</td>\n",
       "      <td>41573.14</td>\n",
       "      <td>80.48021</td>\n",
       "      <td>9.900000e+10</td>\n",
       "      <td>99.23796</td>\n",
       "    </tr>\n",
       "    <tr>\n",
       "      <th>2004.0</th>\n",
       "      <td>2601.4610</td>\n",
       "      <td>46.32004</td>\n",
       "      <td>47792.61</td>\n",
       "      <td>52210.23</td>\n",
       "      <td>78.53008</td>\n",
       "      <td>1.030000e+11</td>\n",
       "      <td>105.86040</td>\n",
       "    </tr>\n",
       "    <tr>\n",
       "      <th>2005.0</th>\n",
       "      <td>3248.2950</td>\n",
       "      <td>62.42404</td>\n",
       "      <td>54927.36</td>\n",
       "      <td>58954.33</td>\n",
       "      <td>79.68678</td>\n",
       "      <td>1.060000e+11</td>\n",
       "      <td>105.71540</td>\n",
       "    </tr>\n",
       "    <tr>\n",
       "      <th>2006.0</th>\n",
       "      <td>3632.4690</td>\n",
       "      <td>84.68823</td>\n",
       "      <td>67665.81</td>\n",
       "      <td>65869.45</td>\n",
       "      <td>81.15370</td>\n",
       "      <td>1.110000e+11</td>\n",
       "      <td>100.22190</td>\n",
       "    </tr>\n",
       "    <tr>\n",
       "      <th>2007.0</th>\n",
       "      <td>4803.3250</td>\n",
       "      <td>108.13480</td>\n",
       "      <td>79932.16</td>\n",
       "      <td>79220.86</td>\n",
       "      <td>85.04475</td>\n",
       "      <td>1.160000e+11</td>\n",
       "      <td>93.56571</td>\n",
       "    </tr>\n",
       "    <tr>\n",
       "      <th>2008.0</th>\n",
       "      <td>3428.4380</td>\n",
       "      <td>90.11039</td>\n",
       "      <td>90067.59</td>\n",
       "      <td>92015.75</td>\n",
       "      <td>90.75676</td>\n",
       "      <td>1.150000e+11</td>\n",
       "      <td>80.32062</td>\n",
       "    </tr>\n",
       "    <tr>\n",
       "      <th>2009.0</th>\n",
       "      <td>5293.1660</td>\n",
       "      <td>76.32392</td>\n",
       "      <td>64948.20</td>\n",
       "      <td>71397.28</td>\n",
       "      <td>97.46171</td>\n",
       "      <td>9.940000e+10</td>\n",
       "      <td>87.12858</td>\n",
       "    </tr>\n",
       "    <tr>\n",
       "      <th>2010.0</th>\n",
       "      <td>6428.0430</td>\n",
       "      <td>105.48320</td>\n",
       "      <td>83067.85</td>\n",
       "      <td>91174.26</td>\n",
       "      <td>101.44040</td>\n",
       "      <td>1.040000e+11</td>\n",
       "      <td>99.93143</td>\n",
       "    </tr>\n",
       "    <tr>\n",
       "      <th>2011.0</th>\n",
       "      <td>5956.8700</td>\n",
       "      <td>117.98650</td>\n",
       "      <td>102661.00</td>\n",
       "      <td>108781.40</td>\n",
       "      <td>105.02010</td>\n",
       "      <td>1.070000e+11</td>\n",
       "      <td>97.82413</td>\n",
       "    </tr>\n",
       "    <tr>\n",
       "      <th>2012.0</th>\n",
       "      <td>5893.7010</td>\n",
       "      <td>115.24880</td>\n",
       "      <td>104221.00</td>\n",
       "      <td>99898.76</td>\n",
       "      <td>109.80720</td>\n",
       "      <td>1.090000e+11</td>\n",
       "      <td>91.67473</td>\n",
       "    </tr>\n",
       "    <tr>\n",
       "      <th>2013.0</th>\n",
       "      <td>4781.6400</td>\n",
       "      <td>116.73060</td>\n",
       "      <td>103531.40</td>\n",
       "      <td>96289.27</td>\n",
       "      <td>115.51690</td>\n",
       "      <td>1.110000e+11</td>\n",
       "      <td>81.22625</td>\n",
       "    </tr>\n",
       "    <tr>\n",
       "      <th>2014.0</th>\n",
       "      <td>4265.9440</td>\n",
       "      <td>122.20540</td>\n",
       "      <td>99773.53</td>\n",
       "      <td>93377.33</td>\n",
       "      <td>121.97850</td>\n",
       "      <td>1.110000e+11</td>\n",
       "      <td>76.24231</td>\n",
       "    </tr>\n",
       "    <tr>\n",
       "      <th>2015.0</th>\n",
       "      <td>3045.0260</td>\n",
       "      <td>110.13940</td>\n",
       "      <td>85616.95</td>\n",
       "      <td>80991.71</td>\n",
       "      <td>128.63850</td>\n",
       "      <td>1.110000e+11</td>\n",
       "      <td>74.26306</td>\n",
       "    </tr>\n",
       "    <tr>\n",
       "      <th>2016.0</th>\n",
       "      <td>3412.7800</td>\n",
       "      <td>94.53760</td>\n",
       "      <td>75126.88</td>\n",
       "      <td>76138.20</td>\n",
       "      <td>135.84510</td>\n",
       "      <td>1.120000e+11</td>\n",
       "      <td>69.08624</td>\n",
       "    </tr>\n",
       "    <tr>\n",
       "      <th>2017.0</th>\n",
       "      <td>3869.7940</td>\n",
       "      <td>110.75940</td>\n",
       "      <td>83302.70</td>\n",
       "      <td>88950.68</td>\n",
       "      <td>142.29060</td>\n",
       "      <td>1.110000e+11</td>\n",
       "      <td>78.49928</td>\n",
       "    </tr>\n",
       "    <tr>\n",
       "      <th>2018.0</th>\n",
       "      <td>NaN</td>\n",
       "      <td>124.46890</td>\n",
       "      <td>NaN</td>\n",
       "      <td>NaN</td>\n",
       "      <td>146.73170</td>\n",
       "      <td>NaN</td>\n",
       "      <td>82.29093</td>\n",
       "    </tr>\n",
       "  </tbody>\n",
       "</table>\n",
       "</div>"
      ],
      "text/plain": [
       "        Total Reserves  Stock Market    Imports    Exports  \\\n",
       "1989.0             NaN           NaN        NaN        NaN   \n",
       "1990.0        954.7425           NaN        NaN        NaN   \n",
       "1991.0       1074.6780           NaN        NaN   26513.08   \n",
       "1992.0        989.7752           NaN        NaN   26806.48   \n",
       "1993.0        792.6544           NaN   18243.70   27290.37   \n",
       "1994.0        879.2921           NaN   21471.16   28411.19   \n",
       "1995.0       1174.5250           NaN   27027.61   31846.64   \n",
       "1996.0        470.1466           NaN   26851.67   32502.69   \n",
       "1997.0       1200.8200           NaN   28156.03   35207.32   \n",
       "1998.0        933.3785           NaN   25845.67   29475.55   \n",
       "1999.0       1219.8340           NaN   24093.49   30414.38   \n",
       "2000.0       1007.6040           NaN   26748.20   34082.65   \n",
       "2001.0        657.0305           NaN   25014.98   33559.03   \n",
       "2002.0        875.0515      26.17536   26536.92   33844.15   \n",
       "2003.0       1246.4380      32.05762   34231.60   41573.14   \n",
       "2004.0       2601.4610      46.32004   47792.61   52210.23   \n",
       "2005.0       3248.2950      62.42404   54927.36   58954.33   \n",
       "2006.0       3632.4690      84.68823   67665.81   65869.45   \n",
       "2007.0       4803.3250     108.13480   79932.16   79220.86   \n",
       "2008.0       3428.4380      90.11039   90067.59   92015.75   \n",
       "2009.0       5293.1660      76.32392   64948.20   71397.28   \n",
       "2010.0       6428.0430     105.48320   83067.85   91174.26   \n",
       "2011.0       5956.8700     117.98650  102661.00  108781.40   \n",
       "2012.0       5893.7010     115.24880  104221.00   99898.76   \n",
       "2013.0       4781.6400     116.73060  103531.40   96289.27   \n",
       "2014.0       4265.9440     122.20540   99773.53   93377.33   \n",
       "2015.0       3045.0260     110.13940   85616.95   80991.71   \n",
       "2016.0       3412.7800      94.53760   75126.88   76138.20   \n",
       "2017.0       3869.7940     110.75940   83302.70   88950.68   \n",
       "2018.0             NaN     124.46890        NaN        NaN   \n",
       "\n",
       "        Consumer Price Index  Industrial Production  \\\n",
       "1989.0                   NaN                    NaN   \n",
       "1990.0                   NaN                    NaN   \n",
       "1991.0                   NaN           7.850000e+10   \n",
       "1992.0                   NaN           7.610000e+10   \n",
       "1993.0                   NaN           7.780000e+10   \n",
       "1994.0                   NaN           8.050000e+10   \n",
       "1995.0                   NaN           8.700000e+10   \n",
       "1996.0                   NaN           9.030000e+10   \n",
       "1997.0                   NaN           9.270000e+10   \n",
       "1998.0                   NaN           9.210000e+10   \n",
       "1999.0                   NaN           9.140000e+10   \n",
       "2000.0                   NaN           9.540000e+10   \n",
       "2001.0                   NaN           9.710000e+10   \n",
       "2002.0              76.55918           1.010000e+11   \n",
       "2003.0              80.48021           9.900000e+10   \n",
       "2004.0              78.53008           1.030000e+11   \n",
       "2005.0              79.68678           1.060000e+11   \n",
       "2006.0              81.15370           1.110000e+11   \n",
       "2007.0              85.04475           1.160000e+11   \n",
       "2008.0              90.75676           1.150000e+11   \n",
       "2009.0              97.46171           9.940000e+10   \n",
       "2010.0             101.44040           1.040000e+11   \n",
       "2011.0             105.02010           1.070000e+11   \n",
       "2012.0             109.80720           1.090000e+11   \n",
       "2013.0             115.51690           1.110000e+11   \n",
       "2014.0             121.97850           1.110000e+11   \n",
       "2015.0             128.63850           1.110000e+11   \n",
       "2016.0             135.84510           1.120000e+11   \n",
       "2017.0             142.29060           1.110000e+11   \n",
       "2018.0             146.73170                    NaN   \n",
       "\n",
       "        Real Effective Exchange rate  \n",
       "1989.0                           NaN  \n",
       "1990.0                           NaN  \n",
       "1991.0                           NaN  \n",
       "1992.0                           NaN  \n",
       "1993.0                           NaN  \n",
       "1994.0                     113.91730  \n",
       "1995.0                     111.05720  \n",
       "1996.0                     101.06130  \n",
       "1997.0                     106.65800  \n",
       "1998.0                      98.76722  \n",
       "1999.0                      92.68240  \n",
       "2000.0                      93.64602  \n",
       "2001.0                      87.76814  \n",
       "2002.0                      75.42743  \n",
       "2003.0                      99.23796  \n",
       "2004.0                     105.86040  \n",
       "2005.0                     105.71540  \n",
       "2006.0                     100.22190  \n",
       "2007.0                      93.56571  \n",
       "2008.0                      80.32062  \n",
       "2009.0                      87.12858  \n",
       "2010.0                      99.93143  \n",
       "2011.0                      97.82413  \n",
       "2012.0                      91.67473  \n",
       "2013.0                      81.22625  \n",
       "2014.0                      76.24231  \n",
       "2015.0                      74.26306  \n",
       "2016.0                      69.08624  \n",
       "2017.0                      78.49928  \n",
       "2018.0                      82.29093  "
      ]
     },
     "execution_count": 28,
     "metadata": {},
     "output_type": "execute_result"
    }
   ],
   "source": [
    "full_data"
   ]
  },
  {
   "cell_type": "code",
   "execution_count": 29,
   "metadata": {},
   "outputs": [],
   "source": [
    "#from 2002 to 2017\n",
    "data = full_data.drop(full_data.index[[0,1,2,3,4,5,6,7,8,9,10,11,12]])"
   ]
  },
  {
   "cell_type": "code",
   "execution_count": 30,
   "metadata": {
    "collapsed": true
   },
   "outputs": [
    {
     "data": {
      "text/html": [
       "<div>\n",
       "<style scoped>\n",
       "    .dataframe tbody tr th:only-of-type {\n",
       "        vertical-align: middle;\n",
       "    }\n",
       "\n",
       "    .dataframe tbody tr th {\n",
       "        vertical-align: top;\n",
       "    }\n",
       "\n",
       "    .dataframe thead th {\n",
       "        text-align: right;\n",
       "    }\n",
       "</style>\n",
       "<table border=\"1\" class=\"dataframe\">\n",
       "  <thead>\n",
       "    <tr style=\"text-align: right;\">\n",
       "      <th></th>\n",
       "      <th>Total Reserves</th>\n",
       "      <th>Stock Market</th>\n",
       "      <th>Imports</th>\n",
       "      <th>Exports</th>\n",
       "      <th>Consumer Price Index</th>\n",
       "      <th>Industrial Production</th>\n",
       "      <th>Real Effective Exchange rate</th>\n",
       "    </tr>\n",
       "  </thead>\n",
       "  <tbody>\n",
       "    <tr>\n",
       "      <th>2002.0</th>\n",
       "      <td>875.0515</td>\n",
       "      <td>26.17536</td>\n",
       "      <td>26536.92</td>\n",
       "      <td>33844.15</td>\n",
       "      <td>76.55918</td>\n",
       "      <td>1.010000e+11</td>\n",
       "      <td>75.42743</td>\n",
       "    </tr>\n",
       "    <tr>\n",
       "      <th>2003.0</th>\n",
       "      <td>1246.4380</td>\n",
       "      <td>32.05762</td>\n",
       "      <td>34231.60</td>\n",
       "      <td>41573.14</td>\n",
       "      <td>80.48021</td>\n",
       "      <td>9.900000e+10</td>\n",
       "      <td>99.23796</td>\n",
       "    </tr>\n",
       "    <tr>\n",
       "      <th>2004.0</th>\n",
       "      <td>2601.4610</td>\n",
       "      <td>46.32004</td>\n",
       "      <td>47792.61</td>\n",
       "      <td>52210.23</td>\n",
       "      <td>78.53008</td>\n",
       "      <td>1.030000e+11</td>\n",
       "      <td>105.86040</td>\n",
       "    </tr>\n",
       "    <tr>\n",
       "      <th>2005.0</th>\n",
       "      <td>3248.2950</td>\n",
       "      <td>62.42404</td>\n",
       "      <td>54927.36</td>\n",
       "      <td>58954.33</td>\n",
       "      <td>79.68678</td>\n",
       "      <td>1.060000e+11</td>\n",
       "      <td>105.71540</td>\n",
       "    </tr>\n",
       "    <tr>\n",
       "      <th>2006.0</th>\n",
       "      <td>3632.4690</td>\n",
       "      <td>84.68823</td>\n",
       "      <td>67665.81</td>\n",
       "      <td>65869.45</td>\n",
       "      <td>81.15370</td>\n",
       "      <td>1.110000e+11</td>\n",
       "      <td>100.22190</td>\n",
       "    </tr>\n",
       "    <tr>\n",
       "      <th>2007.0</th>\n",
       "      <td>4803.3250</td>\n",
       "      <td>108.13480</td>\n",
       "      <td>79932.16</td>\n",
       "      <td>79220.86</td>\n",
       "      <td>85.04475</td>\n",
       "      <td>1.160000e+11</td>\n",
       "      <td>93.56571</td>\n",
       "    </tr>\n",
       "    <tr>\n",
       "      <th>2008.0</th>\n",
       "      <td>3428.4380</td>\n",
       "      <td>90.11039</td>\n",
       "      <td>90067.59</td>\n",
       "      <td>92015.75</td>\n",
       "      <td>90.75676</td>\n",
       "      <td>1.150000e+11</td>\n",
       "      <td>80.32062</td>\n",
       "    </tr>\n",
       "    <tr>\n",
       "      <th>2009.0</th>\n",
       "      <td>5293.1660</td>\n",
       "      <td>76.32392</td>\n",
       "      <td>64948.20</td>\n",
       "      <td>71397.28</td>\n",
       "      <td>97.46171</td>\n",
       "      <td>9.940000e+10</td>\n",
       "      <td>87.12858</td>\n",
       "    </tr>\n",
       "    <tr>\n",
       "      <th>2010.0</th>\n",
       "      <td>6428.0430</td>\n",
       "      <td>105.48320</td>\n",
       "      <td>83067.85</td>\n",
       "      <td>91174.26</td>\n",
       "      <td>101.44040</td>\n",
       "      <td>1.040000e+11</td>\n",
       "      <td>99.93143</td>\n",
       "    </tr>\n",
       "    <tr>\n",
       "      <th>2011.0</th>\n",
       "      <td>5956.8700</td>\n",
       "      <td>117.98650</td>\n",
       "      <td>102661.00</td>\n",
       "      <td>108781.40</td>\n",
       "      <td>105.02010</td>\n",
       "      <td>1.070000e+11</td>\n",
       "      <td>97.82413</td>\n",
       "    </tr>\n",
       "    <tr>\n",
       "      <th>2012.0</th>\n",
       "      <td>5893.7010</td>\n",
       "      <td>115.24880</td>\n",
       "      <td>104221.00</td>\n",
       "      <td>99898.76</td>\n",
       "      <td>109.80720</td>\n",
       "      <td>1.090000e+11</td>\n",
       "      <td>91.67473</td>\n",
       "    </tr>\n",
       "    <tr>\n",
       "      <th>2013.0</th>\n",
       "      <td>4781.6400</td>\n",
       "      <td>116.73060</td>\n",
       "      <td>103531.40</td>\n",
       "      <td>96289.27</td>\n",
       "      <td>115.51690</td>\n",
       "      <td>1.110000e+11</td>\n",
       "      <td>81.22625</td>\n",
       "    </tr>\n",
       "    <tr>\n",
       "      <th>2014.0</th>\n",
       "      <td>4265.9440</td>\n",
       "      <td>122.20540</td>\n",
       "      <td>99773.53</td>\n",
       "      <td>93377.33</td>\n",
       "      <td>121.97850</td>\n",
       "      <td>1.110000e+11</td>\n",
       "      <td>76.24231</td>\n",
       "    </tr>\n",
       "    <tr>\n",
       "      <th>2015.0</th>\n",
       "      <td>3045.0260</td>\n",
       "      <td>110.13940</td>\n",
       "      <td>85616.95</td>\n",
       "      <td>80991.71</td>\n",
       "      <td>128.63850</td>\n",
       "      <td>1.110000e+11</td>\n",
       "      <td>74.26306</td>\n",
       "    </tr>\n",
       "    <tr>\n",
       "      <th>2016.0</th>\n",
       "      <td>3412.7800</td>\n",
       "      <td>94.53760</td>\n",
       "      <td>75126.88</td>\n",
       "      <td>76138.20</td>\n",
       "      <td>135.84510</td>\n",
       "      <td>1.120000e+11</td>\n",
       "      <td>69.08624</td>\n",
       "    </tr>\n",
       "    <tr>\n",
       "      <th>2017.0</th>\n",
       "      <td>3869.7940</td>\n",
       "      <td>110.75940</td>\n",
       "      <td>83302.70</td>\n",
       "      <td>88950.68</td>\n",
       "      <td>142.29060</td>\n",
       "      <td>1.110000e+11</td>\n",
       "      <td>78.49928</td>\n",
       "    </tr>\n",
       "    <tr>\n",
       "      <th>2018.0</th>\n",
       "      <td>NaN</td>\n",
       "      <td>124.46890</td>\n",
       "      <td>NaN</td>\n",
       "      <td>NaN</td>\n",
       "      <td>146.73170</td>\n",
       "      <td>NaN</td>\n",
       "      <td>82.29093</td>\n",
       "    </tr>\n",
       "  </tbody>\n",
       "</table>\n",
       "</div>"
      ],
      "text/plain": [
       "        Total Reserves  Stock Market    Imports    Exports  \\\n",
       "2002.0        875.0515      26.17536   26536.92   33844.15   \n",
       "2003.0       1246.4380      32.05762   34231.60   41573.14   \n",
       "2004.0       2601.4610      46.32004   47792.61   52210.23   \n",
       "2005.0       3248.2950      62.42404   54927.36   58954.33   \n",
       "2006.0       3632.4690      84.68823   67665.81   65869.45   \n",
       "2007.0       4803.3250     108.13480   79932.16   79220.86   \n",
       "2008.0       3428.4380      90.11039   90067.59   92015.75   \n",
       "2009.0       5293.1660      76.32392   64948.20   71397.28   \n",
       "2010.0       6428.0430     105.48320   83067.85   91174.26   \n",
       "2011.0       5956.8700     117.98650  102661.00  108781.40   \n",
       "2012.0       5893.7010     115.24880  104221.00   99898.76   \n",
       "2013.0       4781.6400     116.73060  103531.40   96289.27   \n",
       "2014.0       4265.9440     122.20540   99773.53   93377.33   \n",
       "2015.0       3045.0260     110.13940   85616.95   80991.71   \n",
       "2016.0       3412.7800      94.53760   75126.88   76138.20   \n",
       "2017.0       3869.7940     110.75940   83302.70   88950.68   \n",
       "2018.0             NaN     124.46890        NaN        NaN   \n",
       "\n",
       "        Consumer Price Index  Industrial Production  \\\n",
       "2002.0              76.55918           1.010000e+11   \n",
       "2003.0              80.48021           9.900000e+10   \n",
       "2004.0              78.53008           1.030000e+11   \n",
       "2005.0              79.68678           1.060000e+11   \n",
       "2006.0              81.15370           1.110000e+11   \n",
       "2007.0              85.04475           1.160000e+11   \n",
       "2008.0              90.75676           1.150000e+11   \n",
       "2009.0              97.46171           9.940000e+10   \n",
       "2010.0             101.44040           1.040000e+11   \n",
       "2011.0             105.02010           1.070000e+11   \n",
       "2012.0             109.80720           1.090000e+11   \n",
       "2013.0             115.51690           1.110000e+11   \n",
       "2014.0             121.97850           1.110000e+11   \n",
       "2015.0             128.63850           1.110000e+11   \n",
       "2016.0             135.84510           1.120000e+11   \n",
       "2017.0             142.29060           1.110000e+11   \n",
       "2018.0             146.73170                    NaN   \n",
       "\n",
       "        Real Effective Exchange rate  \n",
       "2002.0                      75.42743  \n",
       "2003.0                      99.23796  \n",
       "2004.0                     105.86040  \n",
       "2005.0                     105.71540  \n",
       "2006.0                     100.22190  \n",
       "2007.0                      93.56571  \n",
       "2008.0                      80.32062  \n",
       "2009.0                      87.12858  \n",
       "2010.0                      99.93143  \n",
       "2011.0                      97.82413  \n",
       "2012.0                      91.67473  \n",
       "2013.0                      81.22625  \n",
       "2014.0                      76.24231  \n",
       "2015.0                      74.26306  \n",
       "2016.0                      69.08624  \n",
       "2017.0                      78.49928  \n",
       "2018.0                      82.29093  "
      ]
     },
     "execution_count": 30,
     "metadata": {},
     "output_type": "execute_result"
    }
   ],
   "source": [
    "data"
   ]
  },
  {
   "cell_type": "code",
   "execution_count": 31,
   "metadata": {},
   "outputs": [],
   "source": [
    "final_data = data.drop(data.index[16])"
   ]
  },
  {
   "cell_type": "code",
   "execution_count": 32,
   "metadata": {
    "collapsed": true
   },
   "outputs": [
    {
     "data": {
      "text/html": [
       "<div>\n",
       "<style scoped>\n",
       "    .dataframe tbody tr th:only-of-type {\n",
       "        vertical-align: middle;\n",
       "    }\n",
       "\n",
       "    .dataframe tbody tr th {\n",
       "        vertical-align: top;\n",
       "    }\n",
       "\n",
       "    .dataframe thead th {\n",
       "        text-align: right;\n",
       "    }\n",
       "</style>\n",
       "<table border=\"1\" class=\"dataframe\">\n",
       "  <thead>\n",
       "    <tr style=\"text-align: right;\">\n",
       "      <th></th>\n",
       "      <th>Total Reserves</th>\n",
       "      <th>Stock Market</th>\n",
       "      <th>Imports</th>\n",
       "      <th>Exports</th>\n",
       "      <th>Consumer Price Index</th>\n",
       "      <th>Industrial Production</th>\n",
       "      <th>Real Effective Exchange rate</th>\n",
       "    </tr>\n",
       "  </thead>\n",
       "  <tbody>\n",
       "    <tr>\n",
       "      <th>2002.0</th>\n",
       "      <td>875.0515</td>\n",
       "      <td>26.17536</td>\n",
       "      <td>26536.92</td>\n",
       "      <td>33844.15</td>\n",
       "      <td>76.55918</td>\n",
       "      <td>1.010000e+11</td>\n",
       "      <td>75.42743</td>\n",
       "    </tr>\n",
       "    <tr>\n",
       "      <th>2003.0</th>\n",
       "      <td>1246.4380</td>\n",
       "      <td>32.05762</td>\n",
       "      <td>34231.60</td>\n",
       "      <td>41573.14</td>\n",
       "      <td>80.48021</td>\n",
       "      <td>9.900000e+10</td>\n",
       "      <td>99.23796</td>\n",
       "    </tr>\n",
       "    <tr>\n",
       "      <th>2004.0</th>\n",
       "      <td>2601.4610</td>\n",
       "      <td>46.32004</td>\n",
       "      <td>47792.61</td>\n",
       "      <td>52210.23</td>\n",
       "      <td>78.53008</td>\n",
       "      <td>1.030000e+11</td>\n",
       "      <td>105.86040</td>\n",
       "    </tr>\n",
       "    <tr>\n",
       "      <th>2005.0</th>\n",
       "      <td>3248.2950</td>\n",
       "      <td>62.42404</td>\n",
       "      <td>54927.36</td>\n",
       "      <td>58954.33</td>\n",
       "      <td>79.68678</td>\n",
       "      <td>1.060000e+11</td>\n",
       "      <td>105.71540</td>\n",
       "    </tr>\n",
       "    <tr>\n",
       "      <th>2006.0</th>\n",
       "      <td>3632.4690</td>\n",
       "      <td>84.68823</td>\n",
       "      <td>67665.81</td>\n",
       "      <td>65869.45</td>\n",
       "      <td>81.15370</td>\n",
       "      <td>1.110000e+11</td>\n",
       "      <td>100.22190</td>\n",
       "    </tr>\n",
       "    <tr>\n",
       "      <th>2007.0</th>\n",
       "      <td>4803.3250</td>\n",
       "      <td>108.13480</td>\n",
       "      <td>79932.16</td>\n",
       "      <td>79220.86</td>\n",
       "      <td>85.04475</td>\n",
       "      <td>1.160000e+11</td>\n",
       "      <td>93.56571</td>\n",
       "    </tr>\n",
       "    <tr>\n",
       "      <th>2008.0</th>\n",
       "      <td>3428.4380</td>\n",
       "      <td>90.11039</td>\n",
       "      <td>90067.59</td>\n",
       "      <td>92015.75</td>\n",
       "      <td>90.75676</td>\n",
       "      <td>1.150000e+11</td>\n",
       "      <td>80.32062</td>\n",
       "    </tr>\n",
       "    <tr>\n",
       "      <th>2009.0</th>\n",
       "      <td>5293.1660</td>\n",
       "      <td>76.32392</td>\n",
       "      <td>64948.20</td>\n",
       "      <td>71397.28</td>\n",
       "      <td>97.46171</td>\n",
       "      <td>9.940000e+10</td>\n",
       "      <td>87.12858</td>\n",
       "    </tr>\n",
       "    <tr>\n",
       "      <th>2010.0</th>\n",
       "      <td>6428.0430</td>\n",
       "      <td>105.48320</td>\n",
       "      <td>83067.85</td>\n",
       "      <td>91174.26</td>\n",
       "      <td>101.44040</td>\n",
       "      <td>1.040000e+11</td>\n",
       "      <td>99.93143</td>\n",
       "    </tr>\n",
       "    <tr>\n",
       "      <th>2011.0</th>\n",
       "      <td>5956.8700</td>\n",
       "      <td>117.98650</td>\n",
       "      <td>102661.00</td>\n",
       "      <td>108781.40</td>\n",
       "      <td>105.02010</td>\n",
       "      <td>1.070000e+11</td>\n",
       "      <td>97.82413</td>\n",
       "    </tr>\n",
       "    <tr>\n",
       "      <th>2012.0</th>\n",
       "      <td>5893.7010</td>\n",
       "      <td>115.24880</td>\n",
       "      <td>104221.00</td>\n",
       "      <td>99898.76</td>\n",
       "      <td>109.80720</td>\n",
       "      <td>1.090000e+11</td>\n",
       "      <td>91.67473</td>\n",
       "    </tr>\n",
       "    <tr>\n",
       "      <th>2013.0</th>\n",
       "      <td>4781.6400</td>\n",
       "      <td>116.73060</td>\n",
       "      <td>103531.40</td>\n",
       "      <td>96289.27</td>\n",
       "      <td>115.51690</td>\n",
       "      <td>1.110000e+11</td>\n",
       "      <td>81.22625</td>\n",
       "    </tr>\n",
       "    <tr>\n",
       "      <th>2014.0</th>\n",
       "      <td>4265.9440</td>\n",
       "      <td>122.20540</td>\n",
       "      <td>99773.53</td>\n",
       "      <td>93377.33</td>\n",
       "      <td>121.97850</td>\n",
       "      <td>1.110000e+11</td>\n",
       "      <td>76.24231</td>\n",
       "    </tr>\n",
       "    <tr>\n",
       "      <th>2015.0</th>\n",
       "      <td>3045.0260</td>\n",
       "      <td>110.13940</td>\n",
       "      <td>85616.95</td>\n",
       "      <td>80991.71</td>\n",
       "      <td>128.63850</td>\n",
       "      <td>1.110000e+11</td>\n",
       "      <td>74.26306</td>\n",
       "    </tr>\n",
       "    <tr>\n",
       "      <th>2016.0</th>\n",
       "      <td>3412.7800</td>\n",
       "      <td>94.53760</td>\n",
       "      <td>75126.88</td>\n",
       "      <td>76138.20</td>\n",
       "      <td>135.84510</td>\n",
       "      <td>1.120000e+11</td>\n",
       "      <td>69.08624</td>\n",
       "    </tr>\n",
       "    <tr>\n",
       "      <th>2017.0</th>\n",
       "      <td>3869.7940</td>\n",
       "      <td>110.75940</td>\n",
       "      <td>83302.70</td>\n",
       "      <td>88950.68</td>\n",
       "      <td>142.29060</td>\n",
       "      <td>1.110000e+11</td>\n",
       "      <td>78.49928</td>\n",
       "    </tr>\n",
       "  </tbody>\n",
       "</table>\n",
       "</div>"
      ],
      "text/plain": [
       "        Total Reserves  Stock Market    Imports    Exports  \\\n",
       "2002.0        875.0515      26.17536   26536.92   33844.15   \n",
       "2003.0       1246.4380      32.05762   34231.60   41573.14   \n",
       "2004.0       2601.4610      46.32004   47792.61   52210.23   \n",
       "2005.0       3248.2950      62.42404   54927.36   58954.33   \n",
       "2006.0       3632.4690      84.68823   67665.81   65869.45   \n",
       "2007.0       4803.3250     108.13480   79932.16   79220.86   \n",
       "2008.0       3428.4380      90.11039   90067.59   92015.75   \n",
       "2009.0       5293.1660      76.32392   64948.20   71397.28   \n",
       "2010.0       6428.0430     105.48320   83067.85   91174.26   \n",
       "2011.0       5956.8700     117.98650  102661.00  108781.40   \n",
       "2012.0       5893.7010     115.24880  104221.00   99898.76   \n",
       "2013.0       4781.6400     116.73060  103531.40   96289.27   \n",
       "2014.0       4265.9440     122.20540   99773.53   93377.33   \n",
       "2015.0       3045.0260     110.13940   85616.95   80991.71   \n",
       "2016.0       3412.7800      94.53760   75126.88   76138.20   \n",
       "2017.0       3869.7940     110.75940   83302.70   88950.68   \n",
       "\n",
       "        Consumer Price Index  Industrial Production  \\\n",
       "2002.0              76.55918           1.010000e+11   \n",
       "2003.0              80.48021           9.900000e+10   \n",
       "2004.0              78.53008           1.030000e+11   \n",
       "2005.0              79.68678           1.060000e+11   \n",
       "2006.0              81.15370           1.110000e+11   \n",
       "2007.0              85.04475           1.160000e+11   \n",
       "2008.0              90.75676           1.150000e+11   \n",
       "2009.0              97.46171           9.940000e+10   \n",
       "2010.0             101.44040           1.040000e+11   \n",
       "2011.0             105.02010           1.070000e+11   \n",
       "2012.0             109.80720           1.090000e+11   \n",
       "2013.0             115.51690           1.110000e+11   \n",
       "2014.0             121.97850           1.110000e+11   \n",
       "2015.0             128.63850           1.110000e+11   \n",
       "2016.0             135.84510           1.120000e+11   \n",
       "2017.0             142.29060           1.110000e+11   \n",
       "\n",
       "        Real Effective Exchange rate  \n",
       "2002.0                      75.42743  \n",
       "2003.0                      99.23796  \n",
       "2004.0                     105.86040  \n",
       "2005.0                     105.71540  \n",
       "2006.0                     100.22190  \n",
       "2007.0                      93.56571  \n",
       "2008.0                      80.32062  \n",
       "2009.0                      87.12858  \n",
       "2010.0                      99.93143  \n",
       "2011.0                      97.82413  \n",
       "2012.0                      91.67473  \n",
       "2013.0                      81.22625  \n",
       "2014.0                      76.24231  \n",
       "2015.0                      74.26306  \n",
       "2016.0                      69.08624  \n",
       "2017.0                      78.49928  "
      ]
     },
     "execution_count": 32,
     "metadata": {},
     "output_type": "execute_result"
    }
   ],
   "source": [
    "final_data"
   ]
  },
  {
   "cell_type": "code",
   "execution_count": 33,
   "metadata": {},
   "outputs": [],
   "source": [
    "from sklearn.linear_model import LinearRegression as lr \n",
    "import sklearn"
   ]
  },
  {
   "cell_type": "code",
   "execution_count": 34,
   "metadata": {},
   "outputs": [],
   "source": [
    "X = final_data.drop('Real Effective Exchange rate', axis = 1)"
   ]
  },
  {
   "cell_type": "code",
   "execution_count": 35,
   "metadata": {},
   "outputs": [],
   "source": [
    "y = final_data['Real Effective Exchange rate']"
   ]
  },
  {
   "cell_type": "code",
   "execution_count": 36,
   "metadata": {},
   "outputs": [
    {
     "data": {
      "text/plain": [
       "(4,)"
      ]
     },
     "execution_count": 36,
     "metadata": {},
     "output_type": "execute_result"
    }
   ],
   "source": [
    "X_train, X_test, y_train, y_test = sklearn.model_selection.train_test_split(X, y, test_size = 0.25, random_state = 7)\n",
    "X_train.shape\n",
    "X_test.shape\n",
    "y_train.shape\n",
    "y_test.shape"
   ]
  },
  {
   "cell_type": "code",
   "execution_count": 37,
   "metadata": {},
   "outputs": [
    {
     "data": {
      "text/plain": [
       "LinearRegression(copy_X=True, fit_intercept=True, n_jobs=1, normalize=False)"
      ]
     },
     "execution_count": 37,
     "metadata": {},
     "output_type": "execute_result"
    }
   ],
   "source": [
    "md = lr()\n",
    "md.fit(X_train, y_train)"
   ]
  },
  {
   "cell_type": "code",
   "execution_count": 38,
   "metadata": {},
   "outputs": [],
   "source": [
    "y_pred = md.predict(X_test)"
   ]
  },
  {
   "cell_type": "code",
   "execution_count": 39,
   "metadata": {},
   "outputs": [
    {
     "data": {
      "text/plain": [
       "array([ 1.80613888e-05,  8.68092179e-01, -1.37474932e-03,  7.30119230e-04,\n",
       "       -6.81016670e-01, -3.79980047e-10])"
      ]
     },
     "execution_count": 39,
     "metadata": {},
     "output_type": "execute_result"
    }
   ],
   "source": [
    "md.coef_"
   ]
  },
  {
   "cell_type": "code",
   "execution_count": 40,
   "metadata": {},
   "outputs": [
    {
     "data": {
      "text/plain": [
       "-4.011958658898531"
      ]
     },
     "execution_count": 40,
     "metadata": {},
     "output_type": "execute_result"
    }
   ],
   "source": [
    "sklearn.metrics.r2_score(y_test, y_pred)"
   ]
  },
  {
   "cell_type": "code",
   "execution_count": 41,
   "metadata": {},
   "outputs": [],
   "source": [
    "from sklearn.preprocessing import PolynomialFeatures as pf\n",
    "from sklearn.pipeline import Pipeline as pipe"
   ]
  },
  {
   "cell_type": "code",
   "execution_count": 42,
   "metadata": {},
   "outputs": [],
   "source": [
    "mdl = pipe([('poly', pf(degree=3)), ('linear', lr(fit_intercept=False))])"
   ]
  },
  {
   "cell_type": "code",
   "execution_count": 43,
   "metadata": {},
   "outputs": [],
   "source": [
    "#mdl.fit(X_train, y_test)"
   ]
  },
  {
   "cell_type": "code",
   "execution_count": 44,
   "metadata": {},
   "outputs": [
    {
     "data": {
      "text/plain": [
       "168.58543821910746"
      ]
     },
     "execution_count": 44,
     "metadata": {},
     "output_type": "execute_result"
    }
   ],
   "source": [
    "md.intercept_"
   ]
  },
  {
   "cell_type": "code",
   "execution_count": 45,
   "metadata": {},
   "outputs": [],
   "source": [
    "import numpy as np"
   ]
  },
  {
   "cell_type": "code",
   "execution_count": 46,
   "metadata": {},
   "outputs": [],
   "source": [
    "x_axis = np.arange(200)"
   ]
  },
  {
   "cell_type": "code",
   "execution_count": 47,
   "metadata": {},
   "outputs": [],
   "source": [
    "y_axis = x_axis*md.coef_[1]  + md.intercept_ # stock market vs exchange rates"
   ]
  },
  {
   "cell_type": "code",
   "execution_count": 48,
   "metadata": {
    "collapsed": true
   },
   "outputs": [
    {
     "data": {
      "text/plain": [
       "[<matplotlib.lines.Line2D at 0x1b66edd4588>]"
      ]
     },
     "execution_count": 48,
     "metadata": {},
     "output_type": "execute_result"
    },
    {
     "data": {
      "image/png": "[encoded data removed]",
      "text/plain": [
       "<Figure size 432x288 with 1 Axes>"
      ]
     },
     "metadata": {},
     "output_type": "display_data"
    }
   ],
   "source": [
    "plt.subplot(321)\n",
    "plt.plot(x_axis, y_axis)"
   ]
  },
  {
   "cell_type": "code",
   "execution_count": 49,
   "metadata": {},
   "outputs": [
    {
     "name": "stdout",
     "output_type": "stream",
     "text": [
      "y_axis = x1 * 1.806138880048798e-05 + x2 * 0.8680921788019256 + x3 * -0.0013747493246153211 + x4 * 0.0007301192302613654 + x5 * -0.6810166696023421 + x6 * -3.7998004742689773e-10 + 168.58543821910746\n"
     ]
    }
   ],
   "source": [
    "print(\"y_axis = x1 *\", md.coef_[0] ,\"+ x2 *\",md.coef_[1] ,\"+ x3 *\",md.coef_[2] ,\"+ x4 *\",md.coef_[3] ,\"+ x5 *\" ,md.coef_[4] ,\"+ x6 *\",md.coef_[5], \"+\",md.intercept_)"
   ]
  },
  {
   "cell_type": "code",
   "execution_count": 50,
   "metadata": {},
   "outputs": [],
   "source": [
    "X2 = X.drop('Industrial Production', axis =1)\n",
    "y2 = y "
   ]
  },
  {
   "cell_type": "code",
   "execution_count": null,
   "metadata": {},
   "outputs": [],
   "source": []
  },
  {
   "cell_type": "code",
   "execution_count": 51,
   "metadata": {},
   "outputs": [],
   "source": [
    "X2_train, X2_test, y2_train, y2_test = sklearn.model_selection.train_test_split(X2, y2, test_size = 0.25, random_state = 7)"
   ]
  },
  {
   "cell_type": "code",
   "execution_count": 52,
   "metadata": {},
   "outputs": [
    {
     "data": {
      "text/plain": [
       "LinearRegression(copy_X=True, fit_intercept=True, n_jobs=1, normalize=False)"
      ]
     },
     "execution_count": 52,
     "metadata": {},
     "output_type": "execute_result"
    }
   ],
   "source": [
    "md2 = lr()\n",
    "md2.fit(X2_train, y2_train)"
   ]
  },
  {
   "cell_type": "code",
   "execution_count": 53,
   "metadata": {},
   "outputs": [],
   "source": [
    "y2_pred = md2.predict(X2_test)"
   ]
  },
  {
   "cell_type": "code",
   "execution_count": 54,
   "metadata": {},
   "outputs": [
    {
     "data": {
      "text/plain": [
       "-4.450497843370962"
      ]
     },
     "execution_count": 54,
     "metadata": {},
     "output_type": "execute_result"
    }
   ],
   "source": [
    "sklearn.metrics.r2_score(y2_test,y2_pred)"
   ]
  },
  {
   "cell_type": "code",
   "execution_count": 55,
   "metadata": {},
   "outputs": [],
   "source": [
    "X_stock = X['Stock Market']"
   ]
  },
  {
   "cell_type": "code",
   "execution_count": 85,
   "metadata": {
    "collapsed": true
   },
   "outputs": [
    {
     "data": {
      "text/plain": [
       "<seaborn.axisgrid.FacetGrid at 0x1b672222710>"
      ]
     },
     "execution_count": 85,
     "metadata": {},
     "output_type": "execute_result"
    },
    {
     "data": {
      "image/png": "[encoded data removed]",
      "text/plain": [
       "<Figure size 587.75x504 with 1 Axes>"
      ]
     },
     "metadata": {},
     "output_type": "display_data"
    }
   ],
   "source": [
    "gr = sns.FacetGrid(final_data,hue = 'Imports', palette = 'Set1',size=7) #imports vs exports\n",
    "gr.map(plt.scatter, \"Imports\", \"Exports\", s = 100, linewidth = 0.65, edgecolor='white')\n",
    "gr.add_legend()\n",
    "gr.set_axis_labels('Imports', 'Exports')"
   ]
  },
  {
   "cell_type": "code",
   "execution_count": 78,
   "metadata": {
    "collapsed": true
   },
   "outputs": [
    {
     "data": {
      "text/plain": [
       "<seaborn.axisgrid.FacetGrid at 0x1b671f562e8>"
      ]
     },
     "execution_count": 78,
     "metadata": {},
     "output_type": "execute_result"
    },
    {
     "data": {
      "image/png": "[encoded data removed]",
      "text/plain": [
       "<Figure size 621.25x504 with 1 Axes>"
      ]
     },
     "metadata": {},
     "output_type": "display_data"
    }
   ],
   "source": [
    "gr2 = sns.FacetGrid(final_data, hue = 'Consumer Price Index', palette='Set1',size=7)\n",
    "gr2.map(plt.scatter, 'Consumer Price Index', 'Imports', s = 100, linewidth=0.65, edgecolor='white')\n",
    "gr2.add_legend()"
   ]
  },
  {
   "cell_type": "code",
   "execution_count": 79,
   "metadata": {
    "collapsed": true
   },
   "outputs": [
    {
     "data": {
      "text/plain": [
       "<seaborn.axisgrid.FacetGrid at 0x1b671f4e668>"
      ]
     },
     "execution_count": 79,
     "metadata": {},
     "output_type": "execute_result"
    },
    {
     "data": {
      "image/png": "[encoded data removed]",
      "text/plain": [
       "<Figure size 621.25x504 with 1 Axes>"
      ]
     },
     "metadata": {},
     "output_type": "display_data"
    }
   ],
   "source": [
    "gr3 = sns.FacetGrid(final_data, hue = 'Consumer Price Index', palette = 'Set1', size=7)\n",
    "gr3.map(plt.scatter,'Consumer Price Index', 'Exports', s=100, edgecolor='white')\n",
    "gr3.add_legend()"
   ]
  },
  {
   "cell_type": "code",
   "execution_count": 80,
   "metadata": {
    "collapsed": true
   },
   "outputs": [
    {
     "data": {
      "text/plain": [
       "'It is clear that Imports and Exports are linearly related,\\nAs we investigate their respective relationships with the Consumer Price Index, the resulting relationship is quite similar for both Imports and Exports'"
      ]
     },
     "execution_count": 80,
     "metadata": {},
     "output_type": "execute_result"
    }
   ],
   "source": [
    "'''It is clear that Imports and Exports are linearly related,\n",
    "As we investigate their respective relationships with the Consumer Price Index, the resulting relationship is quite similar for both Imports and Exports'''"
   ]
  },
  {
   "cell_type": "code",
   "execution_count": 81,
   "metadata": {
    "collapsed": true
   },
   "outputs": [
    {
     "data": {
      "text/plain": [
       "'I hypothesize that both imports and exports relate to exchange rates with a reasonably identical relationship, \\nthe next analysis willinvestigate this hypothesis'"
      ]
     },
     "execution_count": 81,
     "metadata": {},
     "output_type": "execute_result"
    }
   ],
   "source": [
    "'''I hypothesize that both imports and exports relate to exchange rates with a reasonably identical relationship, \n",
    "the next analysis willinvestigate this hypothesis.\n",
    "we will scatter both the features against the exchange rate feature'''"
   ]
  },
  {
   "cell_type": "code",
   "execution_count": 82,
   "metadata": {
    "collapsed": true
   },
   "outputs": [
    {
     "data": {
      "text/plain": [
       "<seaborn.axisgrid.FacetGrid at 0x1b671fb3ac8>"
      ]
     },
     "execution_count": 82,
     "metadata": {},
     "output_type": "execute_result"
    },
    {
     "data": {
      "image/png": "[encoded data removed]",
      "text/plain": [
       "<Figure size 656.5x504 with 1 Axes>"
      ]
     },
     "metadata": {},
     "output_type": "display_data"
    }
   ],
   "source": [
    "g1 = sns.FacetGrid(final_data, hue = 'Real Effective Exchange rate', palette='Set1', size=7)\n",
    "g1.map(plt.scatter, 'Imports', 'Real Effective Exchange rate', s =100, edgecolor='white')\n",
    "g1.add_legend()"
   ]
  },
  {
   "cell_type": "code",
   "execution_count": 83,
   "metadata": {
    "collapsed": true
   },
   "outputs": [
    {
     "data": {
      "text/plain": [
       "<seaborn.axisgrid.FacetGrid at 0x1b671fdd668>"
      ]
     },
     "execution_count": 83,
     "metadata": {},
     "output_type": "execute_result"
    },
    {
     "data": {
      "image/png": "[encoded data removed]",
      "text/plain": [
       "<Figure size 656.5x504 with 1 Axes>"
      ]
     },
     "metadata": {},
     "output_type": "display_data"
    }
   ],
   "source": [
    "g2 = sns.FacetGrid(final_data, hue='Real Effective Exchange rate', palette='Set1', size=7)\n",
    "g2.map(plt.scatter, 'Exports', 'Real Effective Exchange rate', s =100, edgecolor='white')\n",
    "g2.add_legend()"
   ]
  },
  {
   "cell_type": "code",
   "execution_count": 84,
   "metadata": {
    "collapsed": true
   },
   "outputs": [
    {
     "data": {
      "text/plain": [
       "'It is clear that indeed that exports and imports affect the exchange rate in a reasonably identical way, and hence the hypothesis stands accepted.'"
      ]
     },
     "execution_count": 84,
     "metadata": {},
     "output_type": "execute_result"
    }
   ],
   "source": [
    "'''It is clear that indeed that exports and imports affect the exchange rate in a reasonably identical way, and hence the hypothesis stands accepted.'''"
   ]
  },
  {
   "cell_type": "code",
   "execution_count": 86,
   "metadata": {},
   "outputs": [
    {
     "data": {
      "text/html": [
       "<div>\n",
       "<style scoped>\n",
       "    .dataframe tbody tr th:only-of-type {\n",
       "        vertical-align: middle;\n",
       "    }\n",
       "\n",
       "    .dataframe tbody tr th {\n",
       "        vertical-align: top;\n",
       "    }\n",
       "\n",
       "    .dataframe thead th {\n",
       "        text-align: right;\n",
       "    }\n",
       "</style>\n",
       "<table border=\"1\" class=\"dataframe\">\n",
       "  <thead>\n",
       "    <tr style=\"text-align: right;\">\n",
       "      <th></th>\n",
       "      <th>Total Reserves</th>\n",
       "      <th>Stock Market</th>\n",
       "      <th>Imports</th>\n",
       "      <th>Exports</th>\n",
       "      <th>Consumer Price Index</th>\n",
       "      <th>Industrial Production</th>\n",
       "      <th>Real Effective Exchange rate</th>\n",
       "    </tr>\n",
       "  </thead>\n",
       "  <tbody>\n",
       "    <tr>\n",
       "      <th>2002.0</th>\n",
       "      <td>875.0515</td>\n",
       "      <td>26.17536</td>\n",
       "      <td>26536.92</td>\n",
       "      <td>33844.15</td>\n",
       "      <td>76.55918</td>\n",
       "      <td>1.010000e+11</td>\n",
       "      <td>75.42743</td>\n",
       "    </tr>\n",
       "    <tr>\n",
       "      <th>2003.0</th>\n",
       "      <td>1246.4380</td>\n",
       "      <td>32.05762</td>\n",
       "      <td>34231.60</td>\n",
       "      <td>41573.14</td>\n",
       "      <td>80.48021</td>\n",
       "      <td>9.900000e+10</td>\n",
       "      <td>99.23796</td>\n",
       "    </tr>\n",
       "    <tr>\n",
       "      <th>2004.0</th>\n",
       "      <td>2601.4610</td>\n",
       "      <td>46.32004</td>\n",
       "      <td>47792.61</td>\n",
       "      <td>52210.23</td>\n",
       "      <td>78.53008</td>\n",
       "      <td>1.030000e+11</td>\n",
       "      <td>105.86040</td>\n",
       "    </tr>\n",
       "    <tr>\n",
       "      <th>2005.0</th>\n",
       "      <td>3248.2950</td>\n",
       "      <td>62.42404</td>\n",
       "      <td>54927.36</td>\n",
       "      <td>58954.33</td>\n",
       "      <td>79.68678</td>\n",
       "      <td>1.060000e+11</td>\n",
       "      <td>105.71540</td>\n",
       "    </tr>\n",
       "    <tr>\n",
       "      <th>2006.0</th>\n",
       "      <td>3632.4690</td>\n",
       "      <td>84.68823</td>\n",
       "      <td>67665.81</td>\n",
       "      <td>65869.45</td>\n",
       "      <td>81.15370</td>\n",
       "      <td>1.110000e+11</td>\n",
       "      <td>100.22190</td>\n",
       "    </tr>\n",
       "    <tr>\n",
       "      <th>2007.0</th>\n",
       "      <td>4803.3250</td>\n",
       "      <td>108.13480</td>\n",
       "      <td>79932.16</td>\n",
       "      <td>79220.86</td>\n",
       "      <td>85.04475</td>\n",
       "      <td>1.160000e+11</td>\n",
       "      <td>93.56571</td>\n",
       "    </tr>\n",
       "    <tr>\n",
       "      <th>2008.0</th>\n",
       "      <td>3428.4380</td>\n",
       "      <td>90.11039</td>\n",
       "      <td>90067.59</td>\n",
       "      <td>92015.75</td>\n",
       "      <td>90.75676</td>\n",
       "      <td>1.150000e+11</td>\n",
       "      <td>80.32062</td>\n",
       "    </tr>\n",
       "    <tr>\n",
       "      <th>2009.0</th>\n",
       "      <td>5293.1660</td>\n",
       "      <td>76.32392</td>\n",
       "      <td>64948.20</td>\n",
       "      <td>71397.28</td>\n",
       "      <td>97.46171</td>\n",
       "      <td>9.940000e+10</td>\n",
       "      <td>87.12858</td>\n",
       "    </tr>\n",
       "    <tr>\n",
       "      <th>2010.0</th>\n",
       "      <td>6428.0430</td>\n",
       "      <td>105.48320</td>\n",
       "      <td>83067.85</td>\n",
       "      <td>91174.26</td>\n",
       "      <td>101.44040</td>\n",
       "      <td>1.040000e+11</td>\n",
       "      <td>99.93143</td>\n",
       "    </tr>\n",
       "    <tr>\n",
       "      <th>2011.0</th>\n",
       "      <td>5956.8700</td>\n",
       "      <td>117.98650</td>\n",
       "      <td>102661.00</td>\n",
       "      <td>108781.40</td>\n",
       "      <td>105.02010</td>\n",
       "      <td>1.070000e+11</td>\n",
       "      <td>97.82413</td>\n",
       "    </tr>\n",
       "    <tr>\n",
       "      <th>2012.0</th>\n",
       "      <td>5893.7010</td>\n",
       "      <td>115.24880</td>\n",
       "      <td>104221.00</td>\n",
       "      <td>99898.76</td>\n",
       "      <td>109.80720</td>\n",
       "      <td>1.090000e+11</td>\n",
       "      <td>91.67473</td>\n",
       "    </tr>\n",
       "    <tr>\n",
       "      <th>2013.0</th>\n",
       "      <td>4781.6400</td>\n",
       "      <td>116.73060</td>\n",
       "      <td>103531.40</td>\n",
       "      <td>96289.27</td>\n",
       "      <td>115.51690</td>\n",
       "      <td>1.110000e+11</td>\n",
       "      <td>81.22625</td>\n",
       "    </tr>\n",
       "    <tr>\n",
       "      <th>2014.0</th>\n",
       "      <td>4265.9440</td>\n",
       "      <td>122.20540</td>\n",
       "      <td>99773.53</td>\n",
       "      <td>93377.33</td>\n",
       "      <td>121.97850</td>\n",
       "      <td>1.110000e+11</td>\n",
       "      <td>76.24231</td>\n",
       "    </tr>\n",
       "    <tr>\n",
       "      <th>2015.0</th>\n",
       "      <td>3045.0260</td>\n",
       "      <td>110.13940</td>\n",
       "      <td>85616.95</td>\n",
       "      <td>80991.71</td>\n",
       "      <td>128.63850</td>\n",
       "      <td>1.110000e+11</td>\n",
       "      <td>74.26306</td>\n",
       "    </tr>\n",
       "    <tr>\n",
       "      <th>2016.0</th>\n",
       "      <td>3412.7800</td>\n",
       "      <td>94.53760</td>\n",
       "      <td>75126.88</td>\n",
       "      <td>76138.20</td>\n",
       "      <td>135.84510</td>\n",
       "      <td>1.120000e+11</td>\n",
       "      <td>69.08624</td>\n",
       "    </tr>\n",
       "    <tr>\n",
       "      <th>2017.0</th>\n",
       "      <td>3869.7940</td>\n",
       "      <td>110.75940</td>\n",
       "      <td>83302.70</td>\n",
       "      <td>88950.68</td>\n",
       "      <td>142.29060</td>\n",
       "      <td>1.110000e+11</td>\n",
       "      <td>78.49928</td>\n",
       "    </tr>\n",
       "  </tbody>\n",
       "</table>\n",
       "</div>"
      ],
      "text/plain": [
       "        Total Reserves  Stock Market    Imports    Exports  \\\n",
       "2002.0        875.0515      26.17536   26536.92   33844.15   \n",
       "2003.0       1246.4380      32.05762   34231.60   41573.14   \n",
       "2004.0       2601.4610      46.32004   47792.61   52210.23   \n",
       "2005.0       3248.2950      62.42404   54927.36   58954.33   \n",
       "2006.0       3632.4690      84.68823   67665.81   65869.45   \n",
       "2007.0       4803.3250     108.13480   79932.16   79220.86   \n",
       "2008.0       3428.4380      90.11039   90067.59   92015.75   \n",
       "2009.0       5293.1660      76.32392   64948.20   71397.28   \n",
       "2010.0       6428.0430     105.48320   83067.85   91174.26   \n",
       "2011.0       5956.8700     117.98650  102661.00  108781.40   \n",
       "2012.0       5893.7010     115.24880  104221.00   99898.76   \n",
       "2013.0       4781.6400     116.73060  103531.40   96289.27   \n",
       "2014.0       4265.9440     122.20540   99773.53   93377.33   \n",
       "2015.0       3045.0260     110.13940   85616.95   80991.71   \n",
       "2016.0       3412.7800      94.53760   75126.88   76138.20   \n",
       "2017.0       3869.7940     110.75940   83302.70   88950.68   \n",
       "\n",
       "        Consumer Price Index  Industrial Production  \\\n",
       "2002.0              76.55918           1.010000e+11   \n",
       "2003.0              80.48021           9.900000e+10   \n",
       "2004.0              78.53008           1.030000e+11   \n",
       "2005.0              79.68678           1.060000e+11   \n",
       "2006.0              81.15370           1.110000e+11   \n",
       "2007.0              85.04475           1.160000e+11   \n",
       "2008.0              90.75676           1.150000e+11   \n",
       "2009.0              97.46171           9.940000e+10   \n",
       "2010.0             101.44040           1.040000e+11   \n",
       "2011.0             105.02010           1.070000e+11   \n",
       "2012.0             109.80720           1.090000e+11   \n",
       "2013.0             115.51690           1.110000e+11   \n",
       "2014.0             121.97850           1.110000e+11   \n",
       "2015.0             128.63850           1.110000e+11   \n",
       "2016.0             135.84510           1.120000e+11   \n",
       "2017.0             142.29060           1.110000e+11   \n",
       "\n",
       "        Real Effective Exchange rate  \n",
       "2002.0                      75.42743  \n",
       "2003.0                      99.23796  \n",
       "2004.0                     105.86040  \n",
       "2005.0                     105.71540  \n",
       "2006.0                     100.22190  \n",
       "2007.0                      93.56571  \n",
       "2008.0                      80.32062  \n",
       "2009.0                      87.12858  \n",
       "2010.0                      99.93143  \n",
       "2011.0                      97.82413  \n",
       "2012.0                      91.67473  \n",
       "2013.0                      81.22625  \n",
       "2014.0                      76.24231  \n",
       "2015.0                      74.26306  \n",
       "2016.0                      69.08624  \n",
       "2017.0                      78.49928  "
      ]
     },
     "execution_count": 86,
     "metadata": {},
     "output_type": "execute_result"
    }
   ],
   "source": [
    "final_data"
   ]
  }
 ],
 "metadata": {
  "kernelspec": {
   "display_name": "Python 3",
   "language": "python",
   "name": "python3"
  },
  "language_info": {
   "codemirror_mode": {
    "name": "ipython",
    "version": 3
   },
   "file_extension": ".py",
   "mimetype": "text/x-python",
   "name": "python",
   "nbconvert_exporter": "python",
   "pygments_lexer": "ipython3",
   "version": "3.6.5"
  }
 },
 "nbformat": 4,
 "nbformat_minor": 2
}
